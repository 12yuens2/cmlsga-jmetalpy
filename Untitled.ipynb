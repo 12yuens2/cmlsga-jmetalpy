{
 "cells": [
  {
   "cell_type": "code",
   "execution_count": 1,
   "id": "3b7218c6-13fe-413b-8741-6e8da78f1ad6",
   "metadata": {},
   "outputs": [],
   "source": [
    "import os\n",
    "import pandas as pd"
   ]
  },
  {
   "cell_type": "code",
   "execution_count": 3,
   "id": "5a116b3e-1d73-433e-a8de-a20d0a8eb7f3",
   "metadata": {},
   "outputs": [],
   "source": [
    "#todo refactor hard code\n",
    "evaluations = 100000\n",
    "population_size = 500\n",
    "tau = \"tau5\"\n",
    "datapath = \"data-{}pop-{}evals-1runs-debug\".format(population_size, evaluations, tau)\n",
    "problem = \"UDF2\"\n"
   ]
  },
  {
   "cell_type": "code",
   "execution_count": 4,
   "id": "b5eaa85b-d0bb-4f31-bc49-32eef0320ace",
   "metadata": {},
   "outputs": [],
   "source": [
    "def get_df(datapath, algorithm, problem, population_size):\n",
    "    filepath = os.path.join(datapath, algorithm, problem)\n",
    "    files = list(filter(lambda f: \"FUN\" in f, os.listdir(filepath)))\n",
    "    \n",
    "    dfs = []\n",
    "    for f in files:\n",
    "        fname = os.path.join(filepath, f)\n",
    "        evals = evaluations\n",
    "        if f.count(\".\") == 3:\n",
    "            evals = int(f[f.rfind(\".\") + 1:])\n",
    "        df = pd.read_csv(fname, sep=\"\\s\", header=None, names=[\"x\",\"y\"])\n",
    "        df[\"evals\"] = [evals for _ in range(population_size)]\n",
    "        df[\"algorithm\"] = [algorithm for _ in range(population_size)]\n",
    "        dfs.append(df)\n",
    "    df = pd.concat(dfs, ignore_index=True)\n",
    "    \n",
    "    return df"
   ]
  },
  {
   "cell_type": "code",
   "execution_count": null,
   "id": "8fe8dd7a-d8df-4418-89af-1a97018b0399",
   "metadata": {},
   "outputs": [],
   "source": []
  },
  {
   "cell_type": "code",
   "execution_count": null,
   "id": "2a44d1f2-2688-4484-8122-c825cfc14ebf",
   "metadata": {},
   "outputs": [],
   "source": []
  },
  {
   "cell_type": "code",
   "execution_count": 5,
   "id": "e556d1dd-c79d-4abb-957b-7265600e42de",
   "metadata": {},
   "outputs": [],
   "source": [
    "import numpy as np\n",
    "import matplotlib.pyplot as plt\n",
    "import matplotlib.cm as cm\n",
    "from scipy.spatial import cKDTree"
   ]
  },
  {
   "cell_type": "code",
   "execution_count": 16,
   "id": "7e2080ec-1c3a-494d-9470-6a05d6240a05",
   "metadata": {},
   "outputs": [],
   "source": [
    "def data_view_coord(p, res, pmin, pmax):\n",
    "    dp = pmax - pmin\n",
    "    dv = (p - pmin) / dp * res\n",
    "    return dv\n",
    "\n",
    "def kNN2D(xv, yv, res, neighbours, dim=2):\n",
    "    tree = cKDTree(np.array([xv, yv]).T)\n",
    "    grid = np.mgrid[0:res, 0:res].T.reshape(res**2, dim)\n",
    "    \n",
    "    dists = tree.query(grid, neighbours)\n",
    "    inv_sum_dists = 1.0 / dists[0].sum(1)\n",
    "    \n",
    "    im = inv_sum_dists.reshape(res, res)\n",
    "    return im"
   ]
  },
  {
   "cell_type": "code",
   "execution_count": null,
   "id": "7b8a86b1-f3e9-475b-a696-9b0f2ed6bdab",
   "metadata": {},
   "outputs": [],
   "source": []
  },
  {
   "cell_type": "code",
   "execution_count": null,
   "id": "344f4d15-e087-493d-9b36-2f7d87bced8a",
   "metadata": {},
   "outputs": [],
   "source": []
  },
  {
   "cell_type": "code",
   "execution_count": null,
   "id": "4b1c2a46-362e-455a-9632-40c539c816db",
   "metadata": {},
   "outputs": [],
   "source": []
  },
  {
   "cell_type": "code",
   "execution_count": null,
   "id": "44c4e0a0-ec71-4ca6-8b4a-8f114bbf8473",
   "metadata": {},
   "outputs": [],
   "source": []
  },
  {
   "cell_type": "code",
   "execution_count": 6,
   "id": "a71ecdd9-8f19-4a88-adda-1ee6a35fb97d",
   "metadata": {},
   "outputs": [],
   "source": [
    "def filter_df(df, eval_filter):\n",
    "    return df.loc[#(df[\"x\"] < 2.0) & (df[\"y\"] < 2)\n",
    "        (df[\"evals\"] <= eval_filter) & (df[\"evals\"] >= max(0, eval_filter - 5000))]"
   ]
  },
  {
   "cell_type": "code",
   "execution_count": 7,
   "id": "947973a4-8169-488f-946f-09804ab9ffbb",
   "metadata": {},
   "outputs": [],
   "source": [
    "def heatmap(ax, df, resolution, neighbours, eval_filter):\n",
    "    df_filter = df.loc[#(df[\"x\"] < 2.0) & (df[\"y\"] < 2) \n",
    "                   (df[\"evals\"] <= eval_filter) & (df[\"evals\"] >= max(0, eval_filter - 5000))]\n",
    "    xs = df_filter[\"x\"]\n",
    "    ys = df_filter[\"y\"]\n",
    "\n",
    "    borders = [np.min(xs), np.max(xs), np.min(ys), np.max(ys)]\n",
    "    borders = [0, 2, 0, 2]\n",
    "    xv = data_view_coord(xs, resolution, borders[0], borders[1])\n",
    "    yv = data_view_coord(ys, resolution, borders[2], borders[3])\n",
    "\n",
    "    im = kNN2D(xv, yv, resolution, neighbours)\n",
    "\n",
    "    ax.imshow(im, origin=\"lower\", extent=borders, cmap=cm.jet)\n",
    "    ax.set_title(\"{} after {} evals\".format(df[\"algorithm\"][0], eval_filter))\n",
    "    ax.set_xlim(borders[0], borders[1])\n",
    "    ax.set_ylim(borders[2], borders[3])"
   ]
  },
  {
   "cell_type": "code",
   "execution_count": 49,
   "id": "73f0aba4-1a4f-4944-9318-28d53237d99e",
   "metadata": {},
   "outputs": [],
   "source": [
    "def scatter(ax, df, front, eval_filter, borders=None):\n",
    "    df_filter = df.loc[#(df[\"x\"] < 2.0) & (df[\"y\"] < 2) \n",
    "                       (df[\"evals\"] <= eval_filter) & (df[\"evals\"] >= max(0, eval_filter - 5000))]\n",
    "    xs = df_filter[\"x\"]\n",
    "    ys = df_filter[\"y\"]\n",
    "    \n",
    "    ax.plot(xs, ys, 'k.')\n",
    "    ax.plot(front.iloc[:,[0]], front.iloc[:,[1]], 'b')\n",
    "    #ax.set_aspect(\"equal\")\n",
    "    #ax.axis(\"equal\")\n",
    "    if not borders == None:\n",
    "        ax.set_xlim(borders[0], borders[1])\n",
    "        ax.set_ylim(borders[2], borders[3])\n",
    "    ax.set_title(\"{} after {} evals\".format(df[\"algorithm\"][0], eval_filter))"
   ]
  },
  {
   "cell_type": "code",
   "execution_count": null,
   "id": "87cfa1d7-3589-4207-beec-9c76d42fc7a6",
   "metadata": {},
   "outputs": [],
   "source": []
  },
  {
   "cell_type": "code",
   "execution_count": null,
   "id": "416fef22-64d5-4619-a241-fae76038d0c7",
   "metadata": {},
   "outputs": [],
   "source": []
  },
  {
   "cell_type": "code",
   "execution_count": 9,
   "id": "12fb5361-427d-4926-8ffe-0cf5ad64a0cd",
   "metadata": {},
   "outputs": [],
   "source": [
    "def set_size(w,h, ax=None):\n",
    "    \"\"\" w, h: width, height in inches \"\"\"\n",
    "    if not ax: ax=plt.gca()\n",
    "    l = ax.figure.subplotpars.left\n",
    "    r = ax.figure.subplotpars.right\n",
    "    t = ax.figure.subplotpars.top\n",
    "    b = ax.figure.subplotpars.bottom\n",
    "    figw = float(w)/(r-l)\n",
    "    figh = float(h)/(t-b)\n",
    "    ax.figure.set_size_inches(figw, figh)"
   ]
  },
  {
   "cell_type": "code",
   "execution_count": 51,
   "id": "511859b1-f599-4a65-9024-c951d1c277ed",
   "metadata": {},
   "outputs": [],
   "source": [
    "def create_scatter(start, end, borders=None):\n",
    "    for eval_filter in range(start, end, 1000):\n",
    "        time = int(eval_filter / 2500) + 1\n",
    "        front = pd.read_csv(\"resources/reference_front/{}_time{}.pf\".format(problem, time), delimiter=\"\\t\")\n",
    "        \n",
    "        fig, axes = plt.subplots(1, 3, figsize=(15,15))\n",
    "        axes = axes.flatten()\n",
    "\n",
    "        scatter(axes[0], df1, front, eval_filter, borders)\n",
    "        scatter(axes[1], df2, front, eval_filter, borders)\n",
    "        scatter(axes[2], df3, front, eval_filter, borders)\n",
    "\n",
    "        plt.savefig(\"scatter-{}-{}-{}.png\".format(df1[\"algorithm\"][0], problem, eval_filter))\n",
    "        plt.close()"
   ]
  },
  {
   "cell_type": "code",
   "execution_count": 68,
   "id": "0804fb1e-78b4-4826-a282-20c1381406e4",
   "metadata": {},
   "outputs": [],
   "source": []
  },
  {
   "cell_type": "code",
   "execution_count": 52,
   "id": "cd3c2972-f902-4086-98f1-b1e251a3e04f",
   "metadata": {},
   "outputs": [
    {
     "name": "stderr",
     "output_type": "stream",
     "text": [
      "/Users/sizhe/Documents/cmlsga-jmetalpy/env/lib/python3.7/site-packages/ipykernel_launcher.py:11: ParserWarning: Falling back to the 'python' engine because the 'c' engine does not support regex separators (separators > 1 char and different from '\\s+' are interpreted as regex); you can avoid this warning by specifying engine='python'.\n",
      "  # This is added back by InteractiveShellApp.init_path()\n"
     ]
    }
   ],
   "source": [
    "#df1 = get_df(datapath, \"MOEAD-e\", \"ZDT1\")\n",
    "#df2 = get_df(datapath, \"NSGA-IIe\", \"ZDT\")\n",
    "problem = \"UDF2\"\n",
    "\n",
    "df1 = get_df(datapath, \"NSGAII\", problem, population_size)\n",
    "df2 = get_df(datapath, \"MOEAD\", problem, population_size)\n",
    "df3 = get_df(datapath, \"MOEAD-e\", problem, population_size)"
   ]
  },
  {
   "cell_type": "code",
   "execution_count": null,
   "id": "7b80b7ca-79ae-4b27-9bed-237551710453",
   "metadata": {},
   "outputs": [],
   "source": []
  },
  {
   "cell_type": "code",
   "execution_count": 53,
   "id": "d7831bb6-a6fc-41cf-949b-47bfa6795b89",
   "metadata": {},
   "outputs": [],
   "source": [
    "create_scatter(5000, 100000, [0, 2, 0, 2])"
   ]
  },
  {
   "cell_type": "code",
   "execution_count": null,
   "id": "14b38e37-9349-4e04-8e5b-35cfc7243dee",
   "metadata": {},
   "outputs": [],
   "source": []
  },
  {
   "cell_type": "code",
   "execution_count": null,
   "id": "59af0dc0-7647-48aa-b850-396475880779",
   "metadata": {},
   "outputs": [],
   "source": [
    "resolution = 200\n",
    "eval_filter = 30000\n",
    "df_filter = df.loc[#(df[\"x\"] < 2.0) & (df[\"y\"] < 2)\n",
    "    (df[\"evals\"] <= eval_filter) & (df[\"evals\"] >= max(0, eval_filter - 5000))]\n",
    "xs = df_filter[\"x\"]\n",
    "ys = df_filter[\"y\"]\n",
    "\n",
    "borders = [np.min(xs), np.max(xs), np.min(ys), np.max(ys)]\n",
    "borders = [0, 1, 0, 1]\n",
    "xv = data_view_coord(xs, resolution, borders[0], borders[1])\n",
    "yv = data_view_coord(ys, resolution, borders[2], borders[3])\n",
    "\n",
    "neighbours = 64\n",
    "fig,ax = plt.subplots(figsize=(15,15))\n",
    "im = kNN2D(xv, yv, resolution, neighbours)\n",
    "      \n",
    "ax.imshow(im, origin=\"lower\", extent=borders, cmap=cm.jet)\n",
    "ax.set_title(\"Smoothing over {} neighbours\".format(neighbours))\n",
    "#ax.set_xlim(borders[0], borders[1])\n",
    "#ax.set_ylim(borders[2], borders[3])"
   ]
  }
 ],
 "metadata": {
  "kernelspec": {
   "display_name": "Python 3",
   "language": "python",
   "name": "python3"
  },
  "language_info": {
   "codemirror_mode": {
    "name": "ipython",
    "version": 3
   },
   "file_extension": ".py",
   "mimetype": "text/x-python",
   "name": "python",
   "nbconvert_exporter": "python",
   "pygments_lexer": "ipython3",
   "version": "3.6.9"
  }
 },
 "nbformat": 4,
 "nbformat_minor": 5
}
