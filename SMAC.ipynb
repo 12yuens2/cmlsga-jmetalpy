{
 "cells": [
  {
   "cell_type": "code",
   "execution_count": 59,
   "id": "8f7d5e34",
   "metadata": {},
   "outputs": [],
   "source": [
    "import os\n",
    "from pathlib import Path\n",
    "import pandas as pd\n",
    "import numpy as np\n",
    "import matplotlib.pyplot as plt\n",
    "\n",
    "from scipy.stats import wilcoxon, shapiro, ranksums\n",
    "from jmetal.core.algorithm import Algorithm\n",
    "from jmetal.core.quality_indicator import *\n",
    "from jmetal.util.solution import print_function_values_to_file, print_variables_to_file, read_solutions"
   ]
  },
  {
   "cell_type": "code",
   "execution_count": 7,
   "id": "4742d9ce",
   "metadata": {},
   "outputs": [],
   "source": [
    "def generate_summary_from_experiment(input_dir, quality_indicators,\n",
    "                                     reference_fronts = ''):\n",
    "    reference_change = 2500\n",
    "    \n",
    "    if not quality_indicators:\n",
    "        quality_indicators = []\n",
    "\n",
    "    with open(\"QualityIndicatorSummary.csv\", \"w+\") as of:\n",
    "        of.write(\"Algorithm,Problem,ExecutionId,IndicatorName,IndicatorValue\\n\")\n",
    "\n",
    "    for dirname, _, filenames in os.walk(input_dir):\n",
    "        for filename in filenames:\n",
    "            try:\n",
    "                # Linux filesystem\n",
    "                algorithm, problem = dirname.split(\"/\")[-2:]\n",
    "            except ValueError:\n",
    "                # Windows filesystem\n",
    "                algorithm, problem = dirname.split(\"\\\\\")[-2:]\n",
    "\n",
    "            if \"FUN\" in filename:\n",
    "                solutions = read_solutions(os.path.join(dirname, filename))\n",
    "                run_tag = [s for s in filename.split(\".\") if s.isdigit()].pop()\n",
    "                for indicator in quality_indicators:\n",
    "                    reference_front_file = os.path.join(reference_fronts, problem + \".pf\")\n",
    "\n",
    "                    # Add reference front if any\n",
    "                    if hasattr(indicator, \"reference_front\"):\n",
    "                        if Path(reference_front_file).is_file():\n",
    "                            reference_front = []\n",
    "                            with open(reference_front_file) as file:\n",
    "                                for line in file:\n",
    "                                    reference_front.append([float(x) for x in line.split()])\n",
    "\n",
    "                            indicator.reference_front = reference_front\n",
    "                        else:\n",
    "                            logger.warning(\"Reference front not found at\", reference_front_file)\n",
    "\n",
    "                    result = indicator.compute([solutions[i].objectives for i in range(len(solutions))])\n",
    "\n",
    "                    # Save quality indicator value to file\n",
    "                    with open(\"QualityIndicatorSummary.csv\", \"a+\") as of:\n",
    "                        of.write(\",\".join([algorithm, problem, run_tag, indicator.get_short_name(), str(result)]))\n",
    "                        of.write(\"\\n\")"
   ]
  },
  {
   "cell_type": "code",
   "execution_count": 8,
   "id": "948e05e6",
   "metadata": {},
   "outputs": [],
   "source": [
    "generate_summary_from_experiment(\"data-100pop-100000evals-10runs-\", [InvertedGenerationalDistance(None)],\n",
    "                                \"resources/reference_front\")"
   ]
  },
  {
   "cell_type": "code",
   "execution_count": 9,
   "id": "597c4a19",
   "metadata": {},
   "outputs": [],
   "source": [
    "df = pd.read_csv(\"QualityIndicatorSummary.csv\")"
   ]
  },
  {
   "cell_type": "code",
   "execution_count": null,
   "id": "4c9986d7",
   "metadata": {},
   "outputs": [],
   "source": []
  },
  {
   "cell_type": "code",
   "execution_count": 15,
   "id": "0927c649",
   "metadata": {},
   "outputs": [],
   "source": [
    "algorithms = df[\"Algorithm\"].unique()\n",
    "problems = df[\"Problem\"].unique()"
   ]
  },
  {
   "cell_type": "code",
   "execution_count": 16,
   "id": "cf94094b",
   "metadata": {},
   "outputs": [
    {
     "data": {
      "text/plain": [
       "array(['ZDT2', 'ZDT3', 'ZDT4', 'ZDT1', 'ZDT6'], dtype=object)"
      ]
     },
     "execution_count": 16,
     "metadata": {},
     "output_type": "execute_result"
    }
   ],
   "source": [
    "for algorithm in algorithms:\n",
    "    for problem in problems:\n",
    "        "
   ]
  },
  {
   "cell_type": "code",
   "execution_count": 17,
   "id": "a2511b91",
   "metadata": {},
   "outputs": [],
   "source": [
    "for algorithm in algorithms:\n",
    "    df[(df[\"Algorithm\"] == algorithm)]"
   ]
  },
  {
   "cell_type": "code",
   "execution_count": 61,
   "id": "51d1ba38",
   "metadata": {},
   "outputs": [],
   "source": [
    "smpso = df[(df[\"Algorithm\"] == \"SMPSO\") & (df[\"Problem\"] == \"ZDT6\")][\"IndicatorValue\"]"
   ]
  },
  {
   "cell_type": "code",
   "execution_count": 62,
   "id": "cb021bf2",
   "metadata": {},
   "outputs": [],
   "source": [
    "smpso_epi = df[(df[\"Algorithm\"] == \"SMPSO-epi\") & (df[\"Problem\"] == \"ZDT6\")][\"IndicatorValue\"]"
   ]
  },
  {
   "cell_type": "code",
   "execution_count": 44,
   "id": "7ffbb0d5",
   "metadata": {},
   "outputs": [
    {
     "name": "stdout",
     "output_type": "stream",
     "text": [
      "WilcoxonResult(statistic=0.0, pvalue=0.002531016063133932)\n"
     ]
    }
   ],
   "source": [
    "print(wilcoxon(smpso, smpso_epi, alternative=\"less\"))"
   ]
  },
  {
   "cell_type": "code",
   "execution_count": 71,
   "id": "9ccc7601",
   "metadata": {
    "scrolled": true
   },
   "outputs": [
    {
     "name": "stdout",
     "output_type": "stream",
     "text": [
      "Problem: ZDT2\n",
      "50    0.003789\n",
      "51    0.003821\n",
      "52    0.003756\n",
      "53    0.003787\n",
      "54    0.003749\n",
      "55    0.003780\n",
      "56    0.003791\n",
      "57    0.003735\n",
      "58    0.003774\n",
      "59    0.003808\n",
      "Name: IndicatorValue, dtype: float64\n",
      "0    0.003845\n",
      "1    0.003900\n",
      "2    0.003898\n",
      "3    0.003843\n",
      "4    0.003920\n",
      "5    0.003921\n",
      "6    0.003911\n",
      "7    0.003948\n",
      "8    0.003948\n",
      "9    0.003918\n",
      "Name: IndicatorValue, dtype: float64\n",
      "RanksumsResult(statistic=-3.779644730092272, pvalue=0.00015705228423075119)\n",
      "Problem: ZDT3\n",
      "60    0.004236\n",
      "61    0.004254\n",
      "62    0.004153\n",
      "63    0.004347\n",
      "64    0.004363\n",
      "65    0.004250\n",
      "66    0.004227\n",
      "67    0.004252\n",
      "68    0.004371\n",
      "69    0.004381\n",
      "Name: IndicatorValue, dtype: float64\n",
      "10    0.004890\n",
      "11    0.004776\n",
      "12    0.004850\n",
      "13    0.004944\n",
      "14    0.004995\n",
      "15    0.004941\n",
      "16    0.004740\n",
      "17    0.004663\n",
      "18    0.004752\n",
      "19    0.005105\n",
      "Name: IndicatorValue, dtype: float64\n",
      "RanksumsResult(statistic=-3.779644730092272, pvalue=0.00015705228423075119)\n",
      "Problem: ZDT4\n",
      "70    0.003677\n",
      "71    0.003677\n",
      "72    0.003682\n",
      "73    0.003675\n",
      "74    0.003662\n",
      "75    0.003740\n",
      "76    0.003665\n",
      "77    0.003687\n",
      "78    0.003702\n",
      "79    0.003704\n",
      "Name: IndicatorValue, dtype: float64\n",
      "20    1.314254\n",
      "21    3.148220\n",
      "22    1.061395\n",
      "23    0.841161\n",
      "24    0.009895\n",
      "25    0.130421\n",
      "26    1.876289\n",
      "27    0.839290\n",
      "28    3.172959\n",
      "29    1.054862\n",
      "Name: IndicatorValue, dtype: float64\n",
      "RanksumsResult(statistic=-3.779644730092272, pvalue=0.00015705228423075119)\n",
      "Problem: ZDT1\n",
      "80    0.003675\n",
      "81    0.003666\n",
      "82    0.003680\n",
      "83    0.003668\n",
      "84    0.003660\n",
      "85    0.003669\n",
      "86    0.003653\n",
      "87    0.003675\n",
      "88    0.003694\n",
      "89    0.003681\n",
      "Name: IndicatorValue, dtype: float64\n",
      "30    0.003860\n",
      "31    0.003747\n",
      "32    0.003773\n",
      "33    0.003781\n",
      "34    0.003772\n",
      "35    0.003816\n",
      "36    0.003845\n",
      "37    0.003802\n",
      "38    0.003812\n",
      "39    0.003788\n",
      "Name: IndicatorValue, dtype: float64\n",
      "RanksumsResult(statistic=-3.779644730092272, pvalue=0.00015705228423075119)\n",
      "Problem: ZDT6\n",
      "90    0.003638\n",
      "91    0.003693\n",
      "92    0.003627\n",
      "93    0.003652\n",
      "94    0.003669\n",
      "95    0.003627\n",
      "96    0.003657\n",
      "97    0.003644\n",
      "98    0.003648\n",
      "99    0.003666\n",
      "Name: IndicatorValue, dtype: float64\n",
      "40    0.003613\n",
      "41    0.003614\n",
      "42    0.003611\n",
      "43    0.003621\n",
      "44    0.003663\n",
      "45    0.003571\n",
      "46    0.003676\n",
      "47    0.003577\n",
      "48    0.003674\n",
      "49    0.003685\n",
      "Name: IndicatorValue, dtype: float64\n",
      "RanksumsResult(statistic=1.209486313629527, pvalue=0.22647606604348625)\n"
     ]
    }
   ],
   "source": [
    "for problem in problems:\n",
    "    smpso = df[(df[\"Algorithm\"] == \"SMPSO\") & (df[\"Problem\"] == problem)][\"IndicatorValue\"]\n",
    "    smpso_epi = df[(df[\"Algorithm\"] == \"SMPSO-epi\") & (df[\"Problem\"] == problem)][\"IndicatorValue\"]\n",
    "    \n",
    "    print(\"Problem: {}\".format(problem))\n",
    "    print(smpso)\n",
    "    print(smpso_epi)\n",
    "    print(ranksums(smpso, smpso_epi))"
   ]
  },
  {
   "cell_type": "code",
   "execution_count": null,
   "id": "81ed8f3a",
   "metadata": {},
   "outputs": [],
   "source": []
  },
  {
   "cell_type": "code",
   "execution_count": null,
   "id": "9580e169",
   "metadata": {},
   "outputs": [],
   "source": []
  },
  {
   "cell_type": "code",
   "execution_count": null,
   "id": "4daf5fcd",
   "metadata": {},
   "outputs": [],
   "source": []
  },
  {
   "cell_type": "code",
   "execution_count": null,
   "id": "6cf9fb07",
   "metadata": {},
   "outputs": [],
   "source": []
  },
  {
   "cell_type": "code",
   "execution_count": null,
   "id": "b1e5cb09",
   "metadata": {},
   "outputs": [],
   "source": []
  },
  {
   "cell_type": "code",
   "execution_count": null,
   "id": "9d40cbc9",
   "metadata": {},
   "outputs": [],
   "source": []
  }
 ],
 "metadata": {
  "kernelspec": {
   "display_name": "Python 3",
   "language": "python",
   "name": "python3"
  },
  "language_info": {
   "codemirror_mode": {
    "name": "ipython",
    "version": 3
   },
   "file_extension": ".py",
   "mimetype": "text/x-python",
   "name": "python",
   "nbconvert_exporter": "python",
   "pygments_lexer": "ipython3",
   "version": "3.7.3"
  }
 },
 "nbformat": 4,
 "nbformat_minor": 5
}
