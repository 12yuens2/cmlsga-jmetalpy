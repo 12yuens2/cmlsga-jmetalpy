{
 "cells": [
  {
   "cell_type": "code",
   "execution_count": 1,
   "id": "8f7d5e34",
   "metadata": {},
   "outputs": [],
   "source": [
    "import os\n",
    "from pathlib import Path\n",
    "import pandas as pd\n",
    "import numpy as np\n",
    "import matplotlib.pyplot as plt\n",
    "\n",
    "from scipy.stats import wilcoxon, shapiro, ranksums\n",
    "from jmetal.core.algorithm import Algorithm\n",
    "from jmetal.core.quality_indicator import *\n",
    "from jmetal.util.solution import print_function_values_to_file, print_variables_to_file, read_solutions"
   ]
  },
  {
   "cell_type": "code",
   "execution_count": 4,
   "id": "4742d9ce",
   "metadata": {},
   "outputs": [],
   "source": [
    "def generate_summary_from_experiment(input_dir, quality_indicators, summary_filename,\n",
    "                                     reference_fronts = ''):\n",
    "    reference_change = 2500\n",
    "    \n",
    "    if not quality_indicators:\n",
    "        quality_indicators = []\n",
    "\n",
    "    with open(summary_filename, \"w+\") as of:\n",
    "        of.write(\"Algorithm,Problem,ExecutionId,IndicatorName,IndicatorValue\\n\")\n",
    "\n",
    "    for dirname, _, filenames in os.walk(input_dir):\n",
    "        for filename in filenames:\n",
    "            try:\n",
    "                # Linux filesystem\n",
    "                algorithm, problem = dirname.split(\"/\")[-2:]\n",
    "            except ValueError:\n",
    "                # Windows filesystem\n",
    "                algorithm, problem = dirname.split(\"\\\\\")[-2:]\n",
    "\n",
    "            if \"FUN\" in filename:\n",
    "                solutions = read_solutions(os.path.join(dirname, filename))\n",
    "                run_tag = [s for s in filename.split(\".\") if s.isdigit()].pop()\n",
    "                for indicator in quality_indicators:\n",
    "                    reference_front_file = os.path.join(reference_fronts, problem + \".pf\")\n",
    "\n",
    "                    # Add reference front if any\n",
    "                    if hasattr(indicator, \"reference_front\"):\n",
    "                        if Path(reference_front_file).is_file():\n",
    "                            reference_front = []\n",
    "                            with open(reference_front_file) as file:\n",
    "                                for line in file:\n",
    "                                    reference_front.append([float(x) for x in line.split()])\n",
    "\n",
    "                            indicator.reference_front = reference_front\n",
    "                        else:\n",
    "                            logger.warning(\"Reference front not found at\", reference_front_file)\n",
    "\n",
    "                    result = indicator.compute([solutions[i].objectives for i in range(len(solutions))])\n",
    "\n",
    "                    # Save quality indicator value to file\n",
    "                    with open(summary_filename, \"a+\") as of:\n",
    "                        of.write(\",\".join([algorithm, problem, run_tag, indicator.get_short_name(), str(result)]))\n",
    "                        of.write(\"\\n\")"
   ]
  },
  {
   "cell_type": "code",
   "execution_count": 13,
   "id": "c3c53280",
   "metadata": {},
   "outputs": [],
   "source": [
    "filename = \"summary-100k.csv\"\n",
    "datapath = \"data-normals-100k\""
   ]
  },
  {
   "cell_type": "code",
   "execution_count": 14,
   "id": "948e05e6",
   "metadata": {},
   "outputs": [],
   "source": [
    "generate_summary_from_experiment(\"data/{}\".format(datapath), [InvertedGenerationalDistance(None)], filename,\n",
    "                                \"resources/reference_front\")"
   ]
  },
  {
   "cell_type": "code",
   "execution_count": null,
   "id": "ce308f0f",
   "metadata": {},
   "outputs": [],
   "source": []
  },
  {
   "cell_type": "code",
   "execution_count": 15,
   "id": "597c4a19",
   "metadata": {},
   "outputs": [],
   "source": [
    "df_100k = pd.read_csv(\"summary-100k.csv\")\n",
    "df_300k = pd.read_csv(\"summary-300k.csv\")\n",
    "\n",
    "df_smac_100k = pd.read_csv(\"summary-smac-100k.csv\")\n",
    "df_smac_300k = pd.read_csv(\"summary-smac-300k.csv\")"
   ]
  },
  {
   "cell_type": "code",
   "execution_count": 53,
   "id": "4c9986d7",
   "metadata": {},
   "outputs": [
    {
     "data": {
      "text/plain": [
       "0.8975945910090528"
      ]
     },
     "execution_count": 53,
     "metadata": {},
     "output_type": "execute_result"
    }
   ],
   "source": [
    "df_100k[(df_100k[\"Algorithm\"] == \"SMPSO\") & (df_100k[\"Problem\"] == \"MOP4\")][\"IndicatorValue\"].mean()"
   ]
  },
  {
   "cell_type": "code",
   "execution_count": null,
   "id": "b60a942f",
   "metadata": {},
   "outputs": [],
   "source": [
    "get_stats()"
   ]
  },
  {
   "cell_type": "code",
   "execution_count": 16,
   "id": "0927c649",
   "metadata": {},
   "outputs": [],
   "source": [
    "algorithms = df_100k[\"Algorithm\"].unique()\n",
    "problems = df_100k[\"Problem\"].unique()"
   ]
  },
  {
   "cell_type": "code",
   "execution_count": 18,
   "id": "cf94094b",
   "metadata": {},
   "outputs": [
    {
     "name": "stdout",
     "output_type": "stream",
     "text": [
      "['CMPSO' 'Epsilon-IBEA' 'MOEAD' 'NSGAII' 'NSGAIII' 'OMOPSO' 'SMPSO']\n",
      "['DASCMOP1(5)' 'DASCMOP1(6)' 'DASCMOP1(7)' 'DASCMOP2(5)' 'DASCMOP2(6)'\n",
      " 'DASCMOP2(7)' 'DASCMOP3(5)' 'DASCMOP3(6)' 'DASCMOP3(7)' 'DASCMOP4(5)'\n",
      " 'DASCMOP4(6)' 'DASCMOP4(7)' 'DASCMOP5(5)' 'DASCMOP5(6)' 'DASCMOP5(7)'\n",
      " 'DASCMOP6(5)' 'DASCMOP6(6)' 'DASCMOP6(7)' 'DTLZ1' 'DTLZ2' 'DTLZ3' 'DTLZ4'\n",
      " 'DTLZ5' 'DTLZ6' 'DTLZ7' 'IMB1' 'IMB10' 'IMB11' 'IMB12' 'IMB13' 'IMB14'\n",
      " 'IMB2' 'IMB3' 'IMB4' 'IMB5' 'IMB6' 'IMB7' 'IMB8' 'IMB9' 'LZ09_F1'\n",
      " 'LZ09_F2' 'LZ09_F3' 'LZ09_F4' 'LZ09_F5' 'LZ09_F6' 'LZ09_F7' 'LZ09_F8'\n",
      " 'LZ09_F9' 'MOP1' 'MOP2' 'MOP3' 'MOP4' 'MOP5' 'MOP6' 'MOP7' 'UF1' 'UF2'\n",
      " 'UF3' 'UF4' 'UF5' 'UF6' 'UF7' 'UF8' 'UF9' 'WFG1' 'WFG2' 'WFG3' 'WFG4'\n",
      " 'WFG5' 'WFG6' 'WFG7' 'WFG8' 'WFG9' 'ZDT1' 'ZDT2' 'ZDT3' 'ZDT4' 'ZDT6']\n"
     ]
    }
   ],
   "source": [
    "print(algorithms)\n",
    "print(problems)"
   ]
  },
  {
   "cell_type": "code",
   "execution_count": 51,
   "id": "a2511b91",
   "metadata": {},
   "outputs": [],
   "source": [
    "def get_stats(normal_df, smac_df, algorithm, problem):\n",
    "    normals = normal_df[(normal_df[\"Algorithm\"] == algorithm) & (normal_df[\"Problem\"] == problem)][\"IndicatorValue\"]\n",
    "    smac = smac_df[(smac_df[\"Algorithm\"] == algorithm) & (smac_df[\"Problem\"] == problem)][\"IndicatorValue\"]\n",
    "    \n",
    "    result = ranksums(normals, smac)\n",
    "    \n",
    "    return result\n",
    "\n",
    "def write_stats(filename, normal_df, smac_df):\n",
    "    with open(filename, \"a\") as f:\n",
    "        for algorithm in algorithms:\n",
    "            for problem in problems:\n",
    "                normal_igd = normal_df[(normal_df[\"Algorithm\"] == algorithm) & (normal_df[\"Problem\"] == problem)][\"IndicatorValue\"].mean()\n",
    "                smac_igd = smac_df[(smac_df[\"Algorithm\"] == algorithm) & (smac_df[\"Problem\"] == problem)][\"IndicatorValue\"].mean()\n",
    "                result = get_stats(normal_df, smac_df, algorithm, problem)\n",
    "\n",
    "                #algorithm, problem, normal igd, smac igd, p value\n",
    "                #print(\"{},{},{},{},{}\\n\".format(algorithm, problem, normal_igd, smac_igd, result.pvalue))\n",
    "                f.write(\"{},{},{},{},{}\\n\".format(algorithm, problem, normal_igd, smac_igd, result.pvalue))"
   ]
  },
  {
   "cell_type": "code",
   "execution_count": 52,
   "id": "ccd101b8",
   "metadata": {
    "scrolled": true
   },
   "outputs": [],
   "source": [
    "write_stats(\"summary-statistics-100k.csv\", df_100k, df_smac_100k)\n",
    "write_stats(\"summary-statistics-300k.csv\", df_300k, df_smac_300k)"
   ]
  },
  {
   "cell_type": "code",
   "execution_count": 88,
   "id": "8fd431b7",
   "metadata": {},
   "outputs": [],
   "source": [
    "def create_summary_df(normal_df, smac_df):\n",
    "    summary_df = pd.DataFrame(columns=[\"Algorithm\", \"Problem\", \"Normal IGD\", \"SMAC IGD\", \"p-value\", \"Percentage difference\"])\n",
    "    \n",
    "    for algorithm in algorithms:\n",
    "        for problem in problems:\n",
    "            normal_igd = normal_df[(normal_df[\"Algorithm\"] == algorithm) & (normal_df[\"Problem\"] == problem)][\"IndicatorValue\"].mean()\n",
    "            smac_igd = smac_df[(smac_df[\"Algorithm\"] == algorithm) & (smac_df[\"Problem\"] == problem)][\"IndicatorValue\"].mean()\n",
    "            result = get_stats(normal_df, smac_df, algorithm, problem)\n",
    "            \n",
    "            percent_diff = 100 * (normal_igd - smac_igd) / ((normal_igd + smac_igd) / 2.0)\n",
    "            \n",
    "            datarow = {\"Algorithm\": algorithm,\n",
    "                       \"Problem\": problem,\n",
    "                       \"Normal IGD\": normal_igd,\n",
    "                       \"SMAC IGD\": smac_igd,\n",
    "                       \"p-value\": result.pvalue,\n",
    "                       \"Percentage difference\": percent_diff }\n",
    "            \n",
    "            if result.pvalue < 0.05:\n",
    "                summary_df = summary_df.append(datarow, ignore_index=True)\n",
    "            \n",
    "    return summary_df\n",
    "            "
   ]
  },
  {
   "cell_type": "code",
   "execution_count": 93,
   "id": "06d997d4",
   "metadata": {},
   "outputs": [],
   "source": [
    "problems_cat1 = [\"ZDT1\", \"ZDT2\", \"ZDT3\", \"ZDT4\", \"ZDT6\"]\n",
    "problems_cat2 = [\"UF1\", \"UF2\", \"UF3\", \"LZ09_F1\", \"LZ09_F2\", \"LZ09_F3\", \"LZ09_F4\", \"LZ09_F5\"]\n",
    "problems_cat3 = [\"UF4\", \"UF8\", \"UF10\", \"WFG4\", \"WFG5\", \"WFG6\", \"WFG7\", \"WFG8\", \"WFG9\", \n",
    "                 \"DTLZ2\", \"DTLZ3\", \"DTLZ4\", \"DTLZ5\", \"DTLZ6\"]\n",
    "problems_cat4 = [\"UF7\", \"WFG1\", \"WFG3\", \"DTLZ1\"]\n",
    "problems_cat5 = [\"UF5\", \"UF6\", \"UF9\", \"WFG2\", \"DTLZ7\", \"MOP4\"]\n",
    "problems_cat6 = [\"MOP1\", \"MOP2\", \"MOP3\", \"MOP5\", \"MOP6\", \"MOP7\", \n",
    "                 \"IMB1\", \"IMB2\", \"IMB3\", \"IMB4\", \"IMB5\", \"IMB6\", \"IMB7\", \"IMB8\", \"IMB9\", \"IMB10\"]\n",
    "problems_cat7 = [\"IMB11\", \"IMB12\", \"IMB13\", \"IMB14\"]\n",
    "problems_cat8 = [\"DASCMOP{}(5)\".format(i+1) for i in range(6)]\n",
    "problems_cat9 = [\"DASCMOP{}(6)\".format(i+1) for i in range(6)]\n",
    "problems_cat10 = [\"DASCMOP{}(7)\".format(i+1) for i in range(6)]\n",
    "\n",
    "categories = {\n",
    "    \"1\": problems_cat1,\n",
    "    \"2\": problems_cat2,\n",
    "    \"3\": problems_cat3,\n",
    "    \"4\": problems_cat4,\n",
    "    \"5\": problems_cat5,\n",
    "    \"6\": problems_cat6,\n",
    "    \"7\": problems_cat7,\n",
    "    \"8\": problems_cat8,\n",
    "    \"9\": problems_cat9,\n",
    "    \"10\": problems_cat10\n",
    "}"
   ]
  },
  {
   "cell_type": "code",
   "execution_count": null,
   "id": "04be286d",
   "metadata": {},
   "outputs": [],
   "source": []
  },
  {
   "cell_type": "code",
   "execution_count": 76,
   "id": "27856a57",
   "metadata": {},
   "outputs": [
    {
     "name": "stderr",
     "output_type": "stream",
     "text": [
      "/home/sy6u19/Documents/cmlsga-jmetalpy/env3.7/lib/python3.7/site-packages/scipy/stats/stats.py:7784: RuntimeWarning: invalid value encountered in double_scalars\n",
      "  z = (s - expected) / np.sqrt(n1*n2*(n1+n2+1)/12.0)\n"
     ]
    }
   ],
   "source": [
    "summary_df_100k = create_summary_df(df_100k, df_smac_100k)\n",
    "summary_df_300k = create_summary_df(df_300k, df_smac_300k)"
   ]
  },
  {
   "cell_type": "code",
   "execution_count": 77,
   "id": "5facf07a",
   "metadata": {
    "scrolled": false
   },
   "outputs": [
    {
     "data": {
      "text/plain": [
       "<matplotlib.axes._subplots.AxesSubplot at 0x7fb148599890>"
      ]
     },
     "execution_count": 77,
     "metadata": {},
     "output_type": "execute_result"
    },
    {
     "data": {
      "image/png": "[encoded data removed]",
      "text/plain": [
       "<Figure size 864x576 with 1 Axes>"
      ]
     },
     "metadata": {
      "needs_background": "light"
     },
     "output_type": "display_data"
    }
   ],
   "source": [
    "summary_df_100k.boxplot(column=[\"Percentage difference\"], by=\"Algorithm\", figsize=(12,8))"
   ]
  },
  {
   "cell_type": "code",
   "execution_count": 80,
   "id": "34e2845f",
   "metadata": {},
   "outputs": [
    {
     "data": {
      "text/plain": [
       "<matplotlib.axes._subplots.AxesSubplot at 0x7fb14830ad90>"
      ]
     },
     "execution_count": 80,
     "metadata": {},
     "output_type": "execute_result"
    },
    {
     "data": {
      "image/png": "[encoded data removed]",
      "text/plain": [
       "<Figure size 864x576 with 1 Axes>"
      ]
     },
     "metadata": {
      "needs_background": "light"
     },
     "output_type": "display_data"
    }
   ],
   "source": [
    "summary_df_300k.boxplot(column=[\"Percentage difference\"], by=\"Algorithm\", figsize=(12,8))"
   ]
  },
  {
   "cell_type": "code",
   "execution_count": null,
   "id": "c30ca718",
   "metadata": {},
   "outputs": [],
   "source": []
  },
  {
   "cell_type": "code",
   "execution_count": 81,
   "id": "fb388dc6",
   "metadata": {},
   "outputs": [
    {
     "name": "stderr",
     "output_type": "stream",
     "text": [
      "/home/sy6u19/Documents/cmlsga-jmetalpy/env3.7/lib/python3.7/site-packages/scipy/stats/stats.py:7784: RuntimeWarning: invalid value encountered in double_scalars\n",
      "  z = (s - expected) / np.sqrt(n1*n2*(n1+n2+1)/12.0)\n"
     ]
    }
   ],
   "source": [
    "summary_df_100k_significant = create_summary_df(df_100k, df_smac_100k)\n",
    "summary_df_300k_significant = create_summary_df(df_300k, df_smac_300k)"
   ]
  },
  {
   "cell_type": "code",
   "execution_count": 82,
   "id": "f74f3503",
   "metadata": {},
   "outputs": [
    {
     "data": {
      "text/plain": [
       "<matplotlib.axes._subplots.AxesSubplot at 0x7fb1484fb550>"
      ]
     },
     "execution_count": 82,
     "metadata": {},
     "output_type": "execute_result"
    },
    {
     "data": {
      "image/png": "[encoded data removed]",
      "text/plain": [
       "<Figure size 864x576 with 1 Axes>"
      ]
     },
     "metadata": {
      "needs_background": "light"
     },
     "output_type": "display_data"
    }
   ],
   "source": [
    "summary_df_100k.boxplot(column=[\"Percentage difference\"], by=\"Algorithm\", figsize=(12,8))"
   ]
  },
  {
   "cell_type": "code",
   "execution_count": 83,
   "id": "3537732b",
   "metadata": {},
   "outputs": [
    {
     "data": {
      "text/plain": [
       "<matplotlib.axes._subplots.AxesSubplot at 0x7fb1484f0910>"
      ]
     },
     "execution_count": 83,
     "metadata": {},
     "output_type": "execute_result"
    },
    {
     "data": {
      "image/png": "[encoded data removed]",
      "text/plain": [
       "<Figure size 864x576 with 1 Axes>"
      ]
     },
     "metadata": {
      "needs_background": "light"
     },
     "output_type": "display_data"
    }
   ],
   "source": [
    "summary_df_300k.boxplot(column=[\"Percentage difference\"], by=\"Algorithm\", figsize=(12,8))"
   ]
  },
  {
   "cell_type": "code",
   "execution_count": null,
   "id": "71c81daa",
   "metadata": {},
   "outputs": [],
   "source": []
  },
  {
   "cell_type": "code",
   "execution_count": 89,
   "id": "070bdac8",
   "metadata": {},
   "outputs": [
    {
     "data": {
      "text/plain": [
       "array(['DASCMOP1(5)', 'DASCMOP1(6)', 'DASCMOP1(7)', 'DASCMOP2(5)',\n",
       "       'DASCMOP2(6)', 'DASCMOP2(7)', 'DASCMOP3(5)', 'DASCMOP3(6)',\n",
       "       'DASCMOP3(7)', 'DASCMOP4(5)', 'DASCMOP4(6)', 'DASCMOP4(7)',\n",
       "       'DASCMOP5(5)', 'DASCMOP5(6)', 'DASCMOP5(7)', 'DASCMOP6(5)',\n",
       "       'DASCMOP6(6)', 'DASCMOP6(7)', 'DTLZ1', 'DTLZ2', 'DTLZ3', 'DTLZ4',\n",
       "       'DTLZ5', 'DTLZ6', 'DTLZ7', 'IMB1', 'IMB10', 'IMB11', 'IMB12',\n",
       "       'IMB13', 'IMB14', 'IMB2', 'IMB3', 'IMB4', 'IMB5', 'IMB6', 'IMB7',\n",
       "       'IMB8', 'IMB9', 'LZ09_F1', 'LZ09_F2', 'LZ09_F3', 'LZ09_F4',\n",
       "       'LZ09_F5', 'LZ09_F6', 'LZ09_F7', 'LZ09_F8', 'LZ09_F9', 'MOP1',\n",
       "       'MOP2', 'MOP3', 'MOP4', 'MOP5', 'MOP6', 'MOP7', 'UF1', 'UF2',\n",
       "       'UF3', 'UF4', 'UF5', 'UF6', 'UF7', 'UF8', 'UF9', 'WFG1', 'WFG2',\n",
       "       'WFG3', 'WFG4', 'WFG5', 'WFG6', 'WFG7', 'WFG8', 'WFG9', 'ZDT1',\n",
       "       'ZDT2', 'ZDT3', 'ZDT4', 'ZDT6'], dtype=object)"
      ]
     },
     "execution_count": 89,
     "metadata": {},
     "output_type": "execute_result"
    }
   ],
   "source": [
    "summary_df_100k[\"Problem\"].unique()"
   ]
  },
  {
   "cell_type": "code",
   "execution_count": 87,
   "id": "5c895fe8",
   "metadata": {},
   "outputs": [
    {
     "data": {
      "text/html": [
       "<div>\n",
       "<style scoped>\n",
       "    .dataframe tbody tr th:only-of-type {\n",
       "        vertical-align: middle;\n",
       "    }\n",
       "\n",
       "    .dataframe tbody tr th {\n",
       "        vertical-align: top;\n",
       "    }\n",
       "\n",
       "    .dataframe thead th {\n",
       "        text-align: right;\n",
       "    }\n",
       "</style>\n",
       "<table border=\"1\" class=\"dataframe\">\n",
       "  <thead>\n",
       "    <tr style=\"text-align: right;\">\n",
       "      <th></th>\n",
       "      <th>Algorithm</th>\n",
       "      <th>Problem</th>\n",
       "      <th>Normal IGD</th>\n",
       "      <th>SMAC IGD</th>\n",
       "      <th>p-value</th>\n",
       "      <th>Percentage difference</th>\n",
       "    </tr>\n",
       "  </thead>\n",
       "  <tbody>\n",
       "    <tr>\n",
       "      <th>0</th>\n",
       "      <td>CMPSO</td>\n",
       "      <td>DASCMOP1(5)</td>\n",
       "      <td>0.031995</td>\n",
       "      <td>0.070799</td>\n",
       "      <td>1.666535e-06</td>\n",
       "      <td>-75.498698</td>\n",
       "    </tr>\n",
       "    <tr>\n",
       "      <th>1</th>\n",
       "      <td>CMPSO</td>\n",
       "      <td>DASCMOP1(6)</td>\n",
       "      <td>0.291361</td>\n",
       "      <td>0.291078</td>\n",
       "      <td>7.449863e-01</td>\n",
       "      <td>0.097313</td>\n",
       "    </tr>\n",
       "    <tr>\n",
       "      <th>2</th>\n",
       "      <td>CMPSO</td>\n",
       "      <td>DASCMOP1(7)</td>\n",
       "      <td>0.329126</td>\n",
       "      <td>0.554286</td>\n",
       "      <td>7.786348e-03</td>\n",
       "      <td>-50.975131</td>\n",
       "    </tr>\n",
       "    <tr>\n",
       "      <th>3</th>\n",
       "      <td>CMPSO</td>\n",
       "      <td>DASCMOP2(5)</td>\n",
       "      <td>0.034437</td>\n",
       "      <td>0.044478</td>\n",
       "      <td>3.450051e-02</td>\n",
       "      <td>-25.448252</td>\n",
       "    </tr>\n",
       "    <tr>\n",
       "      <th>4</th>\n",
       "      <td>CMPSO</td>\n",
       "      <td>DASCMOP2(6)</td>\n",
       "      <td>0.160670</td>\n",
       "      <td>0.259882</td>\n",
       "      <td>2.804705e-01</td>\n",
       "      <td>-47.181949</td>\n",
       "    </tr>\n",
       "    <tr>\n",
       "      <th>...</th>\n",
       "      <td>...</td>\n",
       "      <td>...</td>\n",
       "      <td>...</td>\n",
       "      <td>...</td>\n",
       "      <td>...</td>\n",
       "      <td>...</td>\n",
       "    </tr>\n",
       "    <tr>\n",
       "      <th>541</th>\n",
       "      <td>SMPSO</td>\n",
       "      <td>ZDT1</td>\n",
       "      <td>0.003661</td>\n",
       "      <td>0.003655</td>\n",
       "      <td>2.871949e-11</td>\n",
       "      <td>0.162722</td>\n",
       "    </tr>\n",
       "    <tr>\n",
       "      <th>542</th>\n",
       "      <td>SMPSO</td>\n",
       "      <td>ZDT2</td>\n",
       "      <td>0.003788</td>\n",
       "      <td>0.003786</td>\n",
       "      <td>2.871949e-11</td>\n",
       "      <td>0.054229</td>\n",
       "    </tr>\n",
       "    <tr>\n",
       "      <th>543</th>\n",
       "      <td>SMPSO</td>\n",
       "      <td>ZDT3</td>\n",
       "      <td>0.004235</td>\n",
       "      <td>0.004281</td>\n",
       "      <td>2.871949e-11</td>\n",
       "      <td>-1.091258</td>\n",
       "    </tr>\n",
       "    <tr>\n",
       "      <th>544</th>\n",
       "      <td>SMPSO</td>\n",
       "      <td>ZDT4</td>\n",
       "      <td>0.003659</td>\n",
       "      <td>0.003665</td>\n",
       "      <td>2.871949e-11</td>\n",
       "      <td>-0.154761</td>\n",
       "    </tr>\n",
       "    <tr>\n",
       "      <th>545</th>\n",
       "      <td>SMPSO</td>\n",
       "      <td>ZDT6</td>\n",
       "      <td>0.003667</td>\n",
       "      <td>0.003625</td>\n",
       "      <td>2.871949e-11</td>\n",
       "      <td>1.160791</td>\n",
       "    </tr>\n",
       "  </tbody>\n",
       "</table>\n",
       "<p>546 rows × 6 columns</p>\n",
       "</div>"
      ],
      "text/plain": [
       "    Algorithm      Problem  Normal IGD  SMAC IGD       p-value  \\\n",
       "0       CMPSO  DASCMOP1(5)    0.031995  0.070799  1.666535e-06   \n",
       "1       CMPSO  DASCMOP1(6)    0.291361  0.291078  7.449863e-01   \n",
       "2       CMPSO  DASCMOP1(7)    0.329126  0.554286  7.786348e-03   \n",
       "3       CMPSO  DASCMOP2(5)    0.034437  0.044478  3.450051e-02   \n",
       "4       CMPSO  DASCMOP2(6)    0.160670  0.259882  2.804705e-01   \n",
       "..        ...          ...         ...       ...           ...   \n",
       "541     SMPSO         ZDT1    0.003661  0.003655  2.871949e-11   \n",
       "542     SMPSO         ZDT2    0.003788  0.003786  2.871949e-11   \n",
       "543     SMPSO         ZDT3    0.004235  0.004281  2.871949e-11   \n",
       "544     SMPSO         ZDT4    0.003659  0.003665  2.871949e-11   \n",
       "545     SMPSO         ZDT6    0.003667  0.003625  2.871949e-11   \n",
       "\n",
       "     Percentage difference  \n",
       "0               -75.498698  \n",
       "1                 0.097313  \n",
       "2               -50.975131  \n",
       "3               -25.448252  \n",
       "4               -47.181949  \n",
       "..                     ...  \n",
       "541               0.162722  \n",
       "542               0.054229  \n",
       "543              -1.091258  \n",
       "544              -0.154761  \n",
       "545               1.160791  \n",
       "\n",
       "[546 rows x 6 columns]"
      ]
     },
     "execution_count": 87,
     "metadata": {},
     "output_type": "execute_result"
    }
   ],
   "source": [
    "summary_df_300k"
   ]
  },
  {
   "cell_type": "code",
   "execution_count": null,
   "id": "36c8f59e",
   "metadata": {},
   "outputs": [],
   "source": []
  },
  {
   "cell_type": "code",
   "execution_count": 61,
   "id": "51d1ba38",
   "metadata": {},
   "outputs": [],
   "source": [
    "smpso = df[(df[\"Algorithm\"] == \"SMPSO\") & (df[\"Problem\"] == \"ZDT6\")][\"IndicatorValue\"]"
   ]
  },
  {
   "cell_type": "code",
   "execution_count": 62,
   "id": "cb021bf2",
   "metadata": {},
   "outputs": [],
   "source": [
    "smpso_epi = df[(df[\"Algorithm\"] == \"SMPSO-epi\") & (df[\"Problem\"] == \"ZDT6\")][\"IndicatorValue\"]"
   ]
  },
  {
   "cell_type": "code",
   "execution_count": 44,
   "id": "7ffbb0d5",
   "metadata": {},
   "outputs": [
    {
     "name": "stdout",
     "output_type": "stream",
     "text": [
      "WilcoxonResult(statistic=0.0, pvalue=0.002531016063133932)\n"
     ]
    }
   ],
   "source": [
    "print(wilcoxon(smpso, smpso_epi, alternative=\"less\"))"
   ]
  },
  {
   "cell_type": "code",
   "execution_count": 71,
   "id": "9ccc7601",
   "metadata": {
    "scrolled": true
   },
   "outputs": [
    {
     "name": "stdout",
     "output_type": "stream",
     "text": [
      "Problem: ZDT2\n",
      "50    0.003789\n",
      "51    0.003821\n",
      "52    0.003756\n",
      "53    0.003787\n",
      "54    0.003749\n",
      "55    0.003780\n",
      "56    0.003791\n",
      "57    0.003735\n",
      "58    0.003774\n",
      "59    0.003808\n",
      "Name: IndicatorValue, dtype: float64\n",
      "0    0.003845\n",
      "1    0.003900\n",
      "2    0.003898\n",
      "3    0.003843\n",
      "4    0.003920\n",
      "5    0.003921\n",
      "6    0.003911\n",
      "7    0.003948\n",
      "8    0.003948\n",
      "9    0.003918\n",
      "Name: IndicatorValue, dtype: float64\n",
      "RanksumsResult(statistic=-3.779644730092272, pvalue=0.00015705228423075119)\n",
      "Problem: ZDT3\n",
      "60    0.004236\n",
      "61    0.004254\n",
      "62    0.004153\n",
      "63    0.004347\n",
      "64    0.004363\n",
      "65    0.004250\n",
      "66    0.004227\n",
      "67    0.004252\n",
      "68    0.004371\n",
      "69    0.004381\n",
      "Name: IndicatorValue, dtype: float64\n",
      "10    0.004890\n",
      "11    0.004776\n",
      "12    0.004850\n",
      "13    0.004944\n",
      "14    0.004995\n",
      "15    0.004941\n",
      "16    0.004740\n",
      "17    0.004663\n",
      "18    0.004752\n",
      "19    0.005105\n",
      "Name: IndicatorValue, dtype: float64\n",
      "RanksumsResult(statistic=-3.779644730092272, pvalue=0.00015705228423075119)\n",
      "Problem: ZDT4\n",
      "70    0.003677\n",
      "71    0.003677\n",
      "72    0.003682\n",
      "73    0.003675\n",
      "74    0.003662\n",
      "75    0.003740\n",
      "76    0.003665\n",
      "77    0.003687\n",
      "78    0.003702\n",
      "79    0.003704\n",
      "Name: IndicatorValue, dtype: float64\n",
      "20    1.314254\n",
      "21    3.148220\n",
      "22    1.061395\n",
      "23    0.841161\n",
      "24    0.009895\n",
      "25    0.130421\n",
      "26    1.876289\n",
      "27    0.839290\n",
      "28    3.172959\n",
      "29    1.054862\n",
      "Name: IndicatorValue, dtype: float64\n",
      "RanksumsResult(statistic=-3.779644730092272, pvalue=0.00015705228423075119)\n",
      "Problem: ZDT1\n",
      "80    0.003675\n",
      "81    0.003666\n",
      "82    0.003680\n",
      "83    0.003668\n",
      "84    0.003660\n",
      "85    0.003669\n",
      "86    0.003653\n",
      "87    0.003675\n",
      "88    0.003694\n",
      "89    0.003681\n",
      "Name: IndicatorValue, dtype: float64\n",
      "30    0.003860\n",
      "31    0.003747\n",
      "32    0.003773\n",
      "33    0.003781\n",
      "34    0.003772\n",
      "35    0.003816\n",
      "36    0.003845\n",
      "37    0.003802\n",
      "38    0.003812\n",
      "39    0.003788\n",
      "Name: IndicatorValue, dtype: float64\n",
      "RanksumsResult(statistic=-3.779644730092272, pvalue=0.00015705228423075119)\n",
      "Problem: ZDT6\n",
      "90    0.003638\n",
      "91    0.003693\n",
      "92    0.003627\n",
      "93    0.003652\n",
      "94    0.003669\n",
      "95    0.003627\n",
      "96    0.003657\n",
      "97    0.003644\n",
      "98    0.003648\n",
      "99    0.003666\n",
      "Name: IndicatorValue, dtype: float64\n",
      "40    0.003613\n",
      "41    0.003614\n",
      "42    0.003611\n",
      "43    0.003621\n",
      "44    0.003663\n",
      "45    0.003571\n",
      "46    0.003676\n",
      "47    0.003577\n",
      "48    0.003674\n",
      "49    0.003685\n",
      "Name: IndicatorValue, dtype: float64\n",
      "RanksumsResult(statistic=1.209486313629527, pvalue=0.22647606604348625)\n"
     ]
    }
   ],
   "source": [
    "for problem in problems:\n",
    "    smpso = df[(df[\"Algorithm\"] == \"SMPSO\") & (df[\"Problem\"] == problem)][\"IndicatorValue\"]\n",
    "    smpso_epi = df[(df[\"Algorithm\"] == \"SMPSO-epi\") & (df[\"Problem\"] == problem)][\"IndicatorValue\"]\n",
    "    \n",
    "    print(\"Problem: {}\".format(problem))\n",
    "    print(smpso)\n",
    "    print(smpso_epi)\n",
    "    print(ranksums(smpso, smpso_epi))"
   ]
  },
  {
   "cell_type": "code",
   "execution_count": null,
   "id": "81ed8f3a",
   "metadata": {},
   "outputs": [],
   "source": []
  },
  {
   "cell_type": "code",
   "execution_count": null,
   "id": "9580e169",
   "metadata": {},
   "outputs": [],
   "source": []
  },
  {
   "cell_type": "code",
   "execution_count": null,
   "id": "4daf5fcd",
   "metadata": {},
   "outputs": [],
   "source": []
  },
  {
   "cell_type": "code",
   "execution_count": null,
   "id": "6cf9fb07",
   "metadata": {},
   "outputs": [],
   "source": []
  },
  {
   "cell_type": "code",
   "execution_count": null,
   "id": "b1e5cb09",
   "metadata": {},
   "outputs": [],
   "source": []
  },
  {
   "cell_type": "code",
   "execution_count": null,
   "id": "9d40cbc9",
   "metadata": {},
   "outputs": [],
   "source": []
  }
 ],
 "metadata": {
  "kernelspec": {
   "display_name": "Python 3",
   "language": "python",
   "name": "python3"
  },
  "language_info": {
   "codemirror_mode": {
    "name": "ipython",
    "version": 3
   },
   "file_extension": ".py",
   "mimetype": "text/x-python",
   "name": "python",
   "nbconvert_exporter": "python",
   "pygments_lexer": "ipython3",
   "version": "3.7.12"
  }
 },
 "nbformat": 4,
 "nbformat_minor": 5
}
