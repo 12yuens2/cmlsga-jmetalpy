{
 "cells": [
  {
   "cell_type": "code",
   "execution_count": 1,
   "id": "482c4feb-7be0-4c8e-8a55-2478d9ce4857",
   "metadata": {},
   "outputs": [],
   "source": [
    "import os\n",
    "from pathlib import Path\n",
    "\n",
    "from jmetal.core.algorithm import Algorithm\n",
    "from jmetal.core.quality_indicator import *\n",
    "from jmetal.util.solution import print_function_values_to_file, print_variables_to_file, read_solutions"
   ]
  },
  {
   "cell_type": "code",
   "execution_count": null,
   "id": "6087395a-a35e-4027-98b4-89a71e28100f",
   "metadata": {},
   "outputs": [],
   "source": []
  },
  {
   "cell_type": "code",
   "execution_count": 4,
   "id": "4e5dcc2a-34d8-45ff-ab99-c75a5efefdde",
   "metadata": {},
   "outputs": [],
   "source": [
    "def generate_summary_from_experiment(input_dir, quality_indicators, problems, evaluations,\n",
    "                                     reference_fronts = ''):\n",
    "    reference_change = 2500\n",
    "    ref_time = 1\n",
    "    if not quality_indicators:\n",
    "        quality_indicators = []\n",
    "        \n",
    "    with open('QualityIndicatorSummary.csv', 'w+') as of:\n",
    "        of.write('Algorithm,Problem,ExecutionId,Evaluations,IndicatorName,IndicatorValue\\n')\n",
    "\n",
    "    for dirname, _, filenames in os.walk(input_dir):\n",
    "        print(dirname)\n",
    "        for filename in sorted(filenames):\n",
    "            try:\n",
    "                # Linux filesystem\n",
    "                algorithm, problem = dirname.split('/')[-2:]\n",
    "            except ValueError:\n",
    "                # Windows filesystem\n",
    "                algorithm, problem = dirname.split('\\\\')[-2:]\n",
    "\n",
    "            for problem_name in problems:\n",
    "                if 'FUN' in filename and problem == problem_name:\n",
    "                    solutions = read_solutions(os.path.join(dirname, filename))\n",
    "                    digits = [s for s in filename.split('.') if s.isdigit()]\n",
    "                    run_tag = digits[0]\n",
    "                    evaluation_tag = evaluations\n",
    "                    if len(digits) > 1:\n",
    "                        evaluation_tag = digits[1]\n",
    "\n",
    "                    for indicator in quality_indicators:\n",
    "                        ref_time = min(int(int(evaluation_tag)/reference_change) + 1, 20)\n",
    "                        reference_front_file = \"resources/reference_front/{}_time{}.pf\".format(problem_name, ref_time) \n",
    "  \n",
    "                        # Add reference front if any\n",
    "                        if hasattr(indicator, 'reference_front'):\n",
    "                            if Path(reference_front_file).is_file():\n",
    "                                reference_front = []\n",
    "                                with open(reference_front_file) as file:\n",
    "                                    for line in file:\n",
    "                                        reference_front.append([float(x) for x in line.split()])\n",
    "\n",
    "                                indicator.reference_front = reference_front\n",
    "                            elif Path(\"resources/reference_front/{}.pf\".format(problem_name)).is_file():\n",
    "                                reference_front = []\n",
    "                                with open(\"resources/reference_front/{}.pf\".format(problem_name)) as file:\n",
    "                                    for line in file:\n",
    "                                        reference_front.append([float(x) for x in line.split()])\n",
    "\n",
    "                                indicator.reference_front = reference_front\n",
    "                            else:\n",
    "                                print(\"no reference front for {}\".format(problem))\n",
    "\n",
    "                        result = indicator.compute([solutions[i].objectives for i in range(len(solutions))])\n",
    "\n",
    "                        # Save quality indicator value to file\n",
    "                        with open('QualityIndicatorSummary.csv', 'a+') as of:\n",
    "                            of.write(','.join([algorithm, problem, str(run_tag), str(evaluation_tag), indicator.get_short_name(), str(result)]))\n",
    "                            of.write('\\n')"
   ]
  },
  {
   "cell_type": "code",
   "execution_count": 5,
   "id": "c23522e3-599c-4482-b4ee-62aac333653e",
   "metadata": {
    "scrolled": true
   },
   "outputs": [
    {
     "name": "stdout",
     "output_type": "stream",
     "text": [
      "data-500pop-100000evals-20runs-\n",
      "data-500pop-100000evals-20runs-/MOEAD-e\n",
      "data-500pop-100000evals-20runs-/MOEAD-e/UDF3\n",
      "data-500pop-100000evals-20runs-/MOEAD-e/UDF6\n",
      "data-500pop-100000evals-20runs-/MOEAD-e/JY2\n",
      "data-500pop-100000evals-20runs-/MOEAD-e/CDF7\n",
      "data-500pop-100000evals-20runs-/MOEAD-e/JY3\n",
      "data-500pop-100000evals-20runs-/MOEAD-e/CDF14\n",
      "data-500pop-100000evals-20runs-/MOEAD-e/UDF1\n",
      "data-500pop-100000evals-20runs-/MOEAD-e/CDF2\n",
      "data-500pop-100000evals-20runs-/MOEAD-e/CDF13\n",
      "data-500pop-100000evals-20runs-/MOEAD-e/UDF4\n",
      "data-500pop-100000evals-20runs-/MOEAD-e/UDF2\n",
      "data-500pop-100000evals-20runs-/MOEAD-e/JY5\n",
      "data-500pop-100000evals-20runs-/MOEAD-e/CDF1\n",
      "data-500pop-100000evals-20runs-/MOEAD-e/CDF3\n",
      "data-500pop-100000evals-20runs-/MOEAD-e/CDF8\n",
      "data-500pop-100000evals-20runs-/MOEAD-e/CDF6\n",
      "data-500pop-100000evals-20runs-/MOEAD-e/CDF15\n",
      "data-500pop-100000evals-20runs-/MOEAD-e/CDF9\n",
      "data-500pop-100000evals-20runs-/MOEAD-e/CDF4\n",
      "data-500pop-100000evals-20runs-/MOEAD-e/JY6\n",
      "data-500pop-100000evals-20runs-/MOEAD-e/CDF10\n",
      "data-500pop-100000evals-20runs-/MOEAD-e/JY7\n",
      "data-500pop-100000evals-20runs-/MOEAD-e/UDF8\n",
      "data-500pop-100000evals-20runs-/MOEAD-e/JY1\n",
      "data-500pop-100000evals-20runs-/MOEAD-e/UDF5\n",
      "data-500pop-100000evals-20runs-/MOEAD-e/CDF11\n",
      "data-500pop-100000evals-20runs-/MOEAD-e/CDF12\n",
      "data-500pop-100000evals-20runs-/MOEAD-e/JY8\n",
      "data-500pop-100000evals-20runs-/MOEAD-e/CDF5\n",
      "data-500pop-100000evals-20runs-/MOEAD\n",
      "data-500pop-100000evals-20runs-/MOEAD/UDF3\n",
      "data-500pop-100000evals-20runs-/MOEAD/UDF6\n",
      "data-500pop-100000evals-20runs-/MOEAD/JY2\n",
      "data-500pop-100000evals-20runs-/MOEAD/CDF7\n",
      "data-500pop-100000evals-20runs-/MOEAD/JY3\n",
      "data-500pop-100000evals-20runs-/MOEAD/CDF14\n",
      "data-500pop-100000evals-20runs-/MOEAD/UDF1\n",
      "data-500pop-100000evals-20runs-/MOEAD/CDF2\n",
      "data-500pop-100000evals-20runs-/MOEAD/CDF13\n",
      "data-500pop-100000evals-20runs-/MOEAD/UDF4\n",
      "data-500pop-100000evals-20runs-/MOEAD/UDF2\n",
      "data-500pop-100000evals-20runs-/MOEAD/JY5\n",
      "data-500pop-100000evals-20runs-/MOEAD/CDF1\n",
      "data-500pop-100000evals-20runs-/MOEAD/CDF3\n",
      "data-500pop-100000evals-20runs-/MOEAD/CDF8\n",
      "data-500pop-100000evals-20runs-/MOEAD/CDF6\n",
      "data-500pop-100000evals-20runs-/MOEAD/CDF15\n",
      "data-500pop-100000evals-20runs-/MOEAD/CDF9\n",
      "data-500pop-100000evals-20runs-/MOEAD/CDF4\n",
      "data-500pop-100000evals-20runs-/MOEAD/JY6\n",
      "data-500pop-100000evals-20runs-/MOEAD/CDF10\n",
      "data-500pop-100000evals-20runs-/MOEAD/JY7\n",
      "data-500pop-100000evals-20runs-/MOEAD/UDF8\n",
      "data-500pop-100000evals-20runs-/MOEAD/JY1\n",
      "data-500pop-100000evals-20runs-/MOEAD/UDF5\n",
      "data-500pop-100000evals-20runs-/MOEAD/CDF11\n",
      "data-500pop-100000evals-20runs-/MOEAD/CDF12\n",
      "data-500pop-100000evals-20runs-/MOEAD/JY8\n",
      "data-500pop-100000evals-20runs-/MOEAD/CDF5\n"
     ]
    }
   ],
   "source": [
    "output_directory = \"data-500pop-100000evals-20runs-\"\n",
    "\n",
    "generate_summary_from_experiment(output_directory, [InvertedGenerationalDistance(None)], \n",
    "                                 [ \n",
    "                                     \"UDF1\", \"UDF2\", \"UDF3\", \"UDF4\", \"UDF5\", \"UDF6\", \"UDF8\",\n",
    "                                     \"CDF1\", \"CDF2\", \"CDF3\", \"CDF4\", \"CDF5\", \"CDF6\", \"CDF7\", \"CDF8\",\n",
    "                                     \"CDF9\", \"CDF10\", \"CDF11\", \"CDF12\", \"CDF13\", \"CDF14\", \"CDF15\",\n",
    "                                     \"JY1\", \"JY2\", \"JY3\", \"JY5\", \"JY6\", \"JY7\", \"JY8\"\n",
    "                                 ], 100000)"
   ]
  },
  {
   "cell_type": "code",
   "execution_count": null,
   "id": "52e9a050-2d7d-4a0c-a4e6-a1ed8bb2bd73",
   "metadata": {},
   "outputs": [],
   "source": []
  },
  {
   "cell_type": "code",
   "execution_count": null,
   "id": "af45821b-4142-45be-b5ed-c44f51e42c35",
   "metadata": {},
   "outputs": [],
   "source": []
  },
  {
   "cell_type": "code",
   "execution_count": 94,
   "id": "3170af4f-e60f-4931-ac89-a5ba8cfe6d84",
   "metadata": {},
   "outputs": [],
   "source": [
    "import pandas as pd"
   ]
  },
  {
   "cell_type": "code",
   "execution_count": 191,
   "id": "9ce1ba3f-7e0d-474a-8208-0979bea4f5ad",
   "metadata": {},
   "outputs": [],
   "source": [
    "def plot_pf(problem):\n",
    "    pf = pd.read_csv(\"resources/reference_front/{}_time1.pf\".format(problem), delimiter = \"\\t\")\n",
    "    pf2 = pd.read_csv(\"resources/reference_front/{}_time4.pf\".format(problem), delimiter = \"\\t\")\n",
    "    pf3 = pd.read_csv(\"resources/reference_front/{}_time8.pf\".format(problem), delimiter = \"\\t\")\n",
    "    \n",
    "    ax1 = pf.plot.scatter(x=0, y=1)\n",
    "    ax2 = pf2.plot.scatter(x=0, y=1, ax=ax1)\n",
    "    ax3 = pf3.plot.scatter(x=0, y=1, ax=ax1)"
   ]
  },
  {
   "cell_type": "code",
   "execution_count": 186,
   "id": "ad087f3b-0479-4bb6-b590-b45277c8648d",
   "metadata": {},
   "outputs": [
    {
     "data": {
      "image/png": "[encoded data removed]",
      "text/plain": [
       "<Figure size 432x288 with 1 Axes>"
      ]
     },
     "metadata": {
      "needs_background": "light"
     },
     "output_type": "display_data"
    }
   ],
   "source": [
    "pf = pd.read_csv(\"resources/reference_front/CDF3_time2.pf\", delimiter = \"\\t\")\n",
    "ax = pf.plot.scatter(x=0, y=1)"
   ]
  },
  {
   "cell_type": "code",
   "execution_count": 193,
   "id": "1a9af599-f615-454e-b32b-295a61605ebc",
   "metadata": {},
   "outputs": [
    {
     "data": {
      "image/png": "[encoded data removed]",
      "text/plain": [
       "<Figure size 432x288 with 1 Axes>"
      ]
     },
     "metadata": {
      "needs_background": "light"
     },
     "output_type": "display_data"
    }
   ],
   "source": [
    "plot_pf(\"CDF11\")"
   ]
  },
  {
   "cell_type": "code",
   "execution_count": null,
   "id": "e51f8530-6ce0-44c7-ae82-bbcc2b97dae1",
   "metadata": {},
   "outputs": [],
   "source": []
  },
  {
   "cell_type": "code",
   "execution_count": 25,
   "id": "c0a4905a-556d-41ea-9592-5bf73bb80b1f",
   "metadata": {},
   "outputs": [],
   "source": [
    "import pandas as pd\n",
    "import numpy as np"
   ]
  },
  {
   "cell_type": "code",
   "execution_count": 33,
   "id": "a9e3b927",
   "metadata": {},
   "outputs": [],
   "source": [
    "df = pd.read_csv(\"QualityIndicatorSummary.csv\")"
   ]
  },
  {
   "cell_type": "code",
   "execution_count": null,
   "id": "bcb228fe",
   "metadata": {},
   "outputs": [],
   "source": []
  },
  {
   "cell_type": "code",
   "execution_count": 26,
   "id": "cce2ada6",
   "metadata": {
    "scrolled": true
   },
   "outputs": [],
   "source": [
    "igd = df[(df[\"Problem\"] == \"UDF3\") & (df[\"Evaluations\"] == 1000) & (df[\"Algorithm\"] == \"MOEAD\")][\"IndicatorValue\"]"
   ]
  },
  {
   "cell_type": "code",
   "execution_count": null,
   "id": "c415a102",
   "metadata": {},
   "outputs": [],
   "source": []
  },
  {
   "cell_type": "code",
   "execution_count": 28,
   "id": "f10ebdad",
   "metadata": {},
   "outputs": [
    {
     "data": {
      "text/plain": [
       "3.128348284353192"
      ]
     },
     "execution_count": 28,
     "metadata": {},
     "output_type": "execute_result"
    }
   ],
   "source": [
    "np.std(igd)"
   ]
  },
  {
   "cell_type": "code",
   "execution_count": 36,
   "id": "e5120bc8",
   "metadata": {},
   "outputs": [
    {
     "data": {
      "text/plain": [
       "10.314740093914242"
      ]
     },
     "execution_count": 36,
     "metadata": {},
     "output_type": "execute_result"
    }
   ],
   "source": [
    "np.average(igd)"
   ]
  },
  {
   "cell_type": "code",
   "execution_count": 58,
   "id": "e8b15f70",
   "metadata": {},
   "outputs": [],
   "source": [
    "problems_cdf = [\"CDF1\", \"CDF2\", \"CDF3\", \"CDF4\", \"CDF5\", \"CDF6\", \"CDF7\", \"CDF8\",\n",
    "            \"CDF9\", \"CDF10\", \"CDF11\", \"CDF12\", \"CDF13\", \"CDF14\", \"CDF15\"]\n",
    "problems_udf = [\"UDF1\", \"UDF2\", \"UDF3\", \"UDF4\", \"UDF5\", \"UDF6\", \"UDF8\"]\n",
    "problems_jy = [\"JY1\", \"JY2\", \"JY3\", \"JY5\", \"JY6\", \"JY7\", \"JY8\"]"
   ]
  },
  {
   "cell_type": "code",
   "execution_count": 79,
   "id": "2c873c41",
   "metadata": {
    "scrolled": true
   },
   "outputs": [],
   "source": [
    "def write_igd_csv(filename, problems):\n",
    "    with open('igd.csv', 'w+') as of:\n",
    "            of.write('Algorithm,Problem,Evaluations,IGD-avg,IDG-std\\n')\n",
    "\n",
    "    for algorithm in [\"MOEAD\", \"MOEAD-e\"]:\n",
    "        for problem in problems:\n",
    "            for evals in range(1000, 100000, 1000):\n",
    "                igd_df = df[(df[\"Problem\"] == problem) \n",
    "                            & (df[\"Evaluations\"] == evals) \n",
    "                            & (df[\"Algorithm\"] == algorithm)][\"IndicatorValue\"]\n",
    "\n",
    "                with open(\"igd.csv\", \"a+\") as f:\n",
    "                    f.write(\",\".join([algorithm, problem, str(evals), str(np.average(igd_df)), str(np.std(igd_df))]))\n",
    "                    f.write(\"\\n\")"
   ]
  },
  {
   "cell_type": "code",
   "execution_count": 76,
   "id": "88aac825",
   "metadata": {
    "scrolled": true
   },
   "outputs": [],
   "source": [
    "def write_raw_csv(filename, problems):\n",
    "    with open(filename, \"w+\") as f:\n",
    "        for algorithm in [\"MOEAD\", \"MOEAD-e\"]:\n",
    "            for evals in range(1000, 101000, 1000):\n",
    "                f.write(\",\".join([algorithm, str(evals)]))\n",
    "                for problem in problems:\n",
    "                    igd_df = df[(df[\"Problem\"] == problem)\n",
    "                                & (df[\"Algorithm\"] == algorithm)\n",
    "                                & (df[\"Evaluations\"] == evals)]            \n",
    "\n",
    "                    f.write(\",{}\".format(problem))\n",
    "                    for i, row in igd_df.iterrows():\n",
    "                        f.write(\",{}\".format(row[\"IndicatorValue\"]))\n",
    "\n",
    "                f.write(\"\\n\")"
   ]
  },
  {
   "cell_type": "code",
   "execution_count": 78,
   "id": "7c7a632b",
   "metadata": {},
   "outputs": [],
   "source": [
    "write_raw_csv(\"jy-raw.csv\", problems_jy)"
   ]
  },
  {
   "cell_type": "code",
   "execution_count": null,
   "id": "ef9603fa",
   "metadata": {},
   "outputs": [],
   "source": []
  }
 ],
 "metadata": {
  "kernelspec": {
   "display_name": "env",
   "language": "python",
   "name": "env"
  },
  "language_info": {
   "codemirror_mode": {
    "name": "ipython",
    "version": 3
   },
   "file_extension": ".py",
   "mimetype": "text/x-python",
   "name": "python",
   "nbconvert_exporter": "python",
   "pygments_lexer": "ipython3",
   "version": "3.6.9"
  }
 },
 "nbformat": 4,
 "nbformat_minor": 5
}
